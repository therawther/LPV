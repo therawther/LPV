{
  "nbformat": 4,
  "nbformat_minor": 0,
  "metadata": {
    "colab": {
      "provenance": [],
      "gpuType": "T4",
      "include_colab_link": true
    },
    "kernelspec": {
      "name": "python3",
      "display_name": "Python 3"
    },
    "language_info": {
      "name": "python"
    },
    "accelerator": "GPU"
  },
  "cells": [
    {
      "cell_type": "markdown",
      "metadata": {
        "id": "view-in-github",
        "colab_type": "text"
      },
      "source": [
        "<a href=\"https://colab.research.google.com/github/therawther/LPV/blob/main/Cuda_Vector_Addition.ipynb\" target=\"_parent\"><img src=\"https://colab.research.google.com/assets/colab-badge.svg\" alt=\"Open In Colab\"/></a>"
      ]
    },
    {
      "cell_type": "code",
      "execution_count": null,
      "metadata": {
        "colab": {
          "base_uri": "https://localhost:8080/"
        },
        "id": "XqS7CnhLKb6x",
        "outputId": "cf75d6ec-3970-4aed-8192-d3271a4d0830"
      },
      "outputs": [
        {
          "output_type": "stream",
          "name": "stdout",
          "text": [
            "Cloning into 'nvcc4jupyter'...\n",
            "remote: Enumerating objects: 48, done.\u001b[K\n",
            "remote: Counting objects: 100% (3/3), done.\u001b[K\n",
            "remote: Compressing objects: 100% (3/3), done.\u001b[K\n",
            "remote: Total 48 (delta 0), reused 0 (delta 0), pack-reused 45\u001b[K\n",
            "Unpacking objects: 100% (48/48), 8.29 KiB | 653.00 KiB/s, done.\n",
            "Looking in indexes: https://pypi.org/simple, https://us-python.pkg.dev/colab-wheels/public/simple/\n",
            "Collecting git+file:/content/nvcc4jupyter\n",
            "  Cloning file:///content/nvcc4jupyter to /tmp/pip-req-build-ywj95tds\n",
            "  Running command git clone --filter=blob:none --quiet file:///content/nvcc4jupyter /tmp/pip-req-build-ywj95tds\n",
            "  warning: filtering not recognized by server, ignoring\n",
            "  Resolved file:///content/nvcc4jupyter to commit aac710a35f52bb78ab34d2e52517237941399eff\n",
            "  Preparing metadata (setup.py) ... \u001b[?25l\u001b[?25hdone\n",
            "Building wheels for collected packages: NVCCPlugin\n",
            "  Building wheel for NVCCPlugin (setup.py) ... \u001b[?25l\u001b[?25hdone\n",
            "  Created wheel for NVCCPlugin: filename=NVCCPlugin-0.0.2-py3-none-any.whl size=4287 sha256=c1af8a37295e912278c02ee73674980ac499df86432d3fbc273cc903a3232939\n",
            "  Stored in directory: /tmp/pip-ephem-wheel-cache-hh5e74kd/wheels/fd/06/13/b58cc0bebf3cd854f673ad262798e45f5ab5a6624b569b745b\n",
            "Successfully built NVCCPlugin\n",
            "Installing collected packages: NVCCPlugin\n",
            "Successfully installed NVCCPlugin-0.0.2\n"
          ]
        }
      ],
      "source": [
        "!git clone https://github.com/andreinechaev/nvcc4jupyter\n",
        "!pip install git+file:/content/nvcc4jupyter"
      ]
    },
    {
      "cell_type": "code",
      "source": [
        "%load_ext nvcc_plugin"
      ],
      "metadata": {
        "colab": {
          "base_uri": "https://localhost:8080/"
        },
        "id": "upxS6ORqKjmZ",
        "outputId": "8ee3edc0-3253-4dbd-a5f2-a0c9753829cf"
      },
      "execution_count": null,
      "outputs": [
        {
          "output_type": "stream",
          "name": "stdout",
          "text": [
            "created output directory at /content/src\n",
            "Out bin /content/result.out\n"
          ]
        }
      ]
    },
    {
      "cell_type": "code",
      "source": [
        "%%cu\n",
        "#include <cuda_runtime.h>\n",
        "#include <iostream>\n",
        "#define N 1000000\n",
        "\n",
        "using namespace std;\n",
        "\n",
        "__global__ void add(int *a, int *b, int *c)\n",
        "{\n",
        "    int i = blockIdx.x * blockDim.x + threadIdx.x;\n",
        "    if (i < N)\n",
        "    {\n",
        "        c[i] = a[i] + b[i];\n",
        "    }\n",
        "}\n",
        "\n",
        "int main()\n",
        "{\n",
        "    // host vectors - Host means cpu\n",
        "    int *a, *b, *c;\n",
        "\n",
        "    // device vectors - Device means gpu\n",
        "    int *dev_a, *dev_b, *dev_c;\n",
        " \n",
        "    int size = N * sizeof(int);\n",
        "\n",
        "    // Allocate memory on host\n",
        "    a = (int *)malloc(size);\n",
        "    b = (int *)malloc(size);\n",
        "    c = (int *)malloc(size);\n",
        "\n",
        "    // Allocate memory on device\n",
        "    cudaMalloc((void **)&dev_a, size);\n",
        "    cudaMalloc((void **)&dev_b, size);\n",
        "    cudaMalloc((void **)&dev_c, size);\n",
        "\n",
        "    // Initialize host vectors\n",
        "    for (int i = 0; i < N; i++)\n",
        "    {\n",
        "        a[i] = i;\n",
        "        b[i] = i * 2;\n",
        "    }\n",
        "\n",
        "    // Copy host vectors to device\n",
        "    cudaMemcpy(dev_a, a, size, cudaMemcpyHostToDevice);\n",
        "    cudaMemcpy(dev_b, b, size, cudaMemcpyHostToDevice);\n",
        "\n",
        "    // Launch kernel with 1 block and 1024 threads per block\n",
        "    add<<<1, 1024>>>(dev_a, dev_b, dev_c);\n",
        "\n",
        "    // Copy result from device to host\n",
        "    cudaMemcpy(c, dev_c, size, cudaMemcpyDeviceToHost);\n",
        " \n",
        "    cout<<\"first 10 values of Array a = \";\n",
        "    for (int i = 0; i < 10; i++)\n",
        "    {\n",
        "        cout << a[i] << \" \";\n",
        "    }\n",
        "    cout<<endl;\n",
        " \n",
        "    cout<<\"first 10 values of Array b = \";\n",
        "    for (int i = 0; i < 10; i++)\n",
        "    {\n",
        "        cout << b[i] << \" \";\n",
        "    }\n",
        "    cout<<endl;\n",
        "\n",
        "    // Print the first 10 values of the result\n",
        "    cout<<\"first 10 values of Array c = \";\n",
        "    for (int i = 0; i < 10; i++)\n",
        "    {\n",
        "        cout << c[i] << \" \";\n",
        "    }\n",
        "    cout<<endl;\n",
        "\n",
        "    // Free memory\n",
        "    cudaFree(dev_a);\n",
        "    cudaFree(dev_b);\n",
        "    cudaFree(dev_c);\n",
        "    free(a);\n",
        "    free(b);\n",
        "    free(c);\n",
        "\n",
        "    return 0;\n",
        "}"
      ],
      "metadata": {
        "colab": {
          "base_uri": "https://localhost:8080/"
        },
        "id": "sQ22BJgfKjpd",
        "outputId": "99c37563-befa-4b01-a67e-a713146f6df6"
      },
      "execution_count": null,
      "outputs": [
        {
          "output_type": "stream",
          "name": "stdout",
          "text": [
            "first 10 values of Array a = 0 1 2 3 4 5 6 7 8 9 \n",
            "first 10 values of Array b = 0 2 4 6 8 10 12 14 16 18 \n",
            "first 10 values of Array c = 0 3 6 9 12 15 18 21 24 27 \n",
            "\n"
          ]
        }
      ]
    },
    {
      "cell_type": "code",
      "source": [],
      "metadata": {
        "id": "jHPRdQBeKwph"
      },
      "execution_count": null,
      "outputs": []
    },
    {
      "cell_type": "markdown",
      "source": [
        "## Steps to Create & run this program\n",
        "\n",
        "1. Change runtime type to gpu\n",
        "   path = Runtime > change runtime type > Hardware accelerator > GPU\n",
        "2. Setup of Cuda:\n",
        "  > 1.   Install Cuda\n",
        "  ```\n",
        "  !git clone https://github.com/andreinechaev/nvcc4jupyter\n",
        "  !pip install git+file:/content/nvcc4jupyter\n",
        "  ```\n",
        "  > 2.   Load nvcc plugin\n",
        "  ```\n",
        "  %load_ext nvcc_plugin\n",
        "  ```\n",
        "3. Enter your program && always add %%cu as first line of code to recognize it's cuda program\n",
        "\n",
        "\n",
        "\n",
        "\n",
        "\n",
        "\n",
        "    \n"
      ],
      "metadata": {
        "id": "Q9I9dXasM1LT"
      }
    }
  ]
}