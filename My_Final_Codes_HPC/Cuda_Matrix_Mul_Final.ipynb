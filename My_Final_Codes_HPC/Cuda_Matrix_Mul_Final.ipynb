{
  "nbformat": 4,
  "nbformat_minor": 0,
  "metadata": {
    "colab": {
      "provenance": [],
      "gpuType": "T4",
      "include_colab_link": true
    },
    "kernelspec": {
      "name": "python3",
      "display_name": "Python 3"
    },
    "language_info": {
      "name": "python"
    },
    "accelerator": "GPU"
  },
  "cells": [
    {
      "cell_type": "markdown",
      "metadata": {
        "id": "view-in-github",
        "colab_type": "text"
      },
      "source": [
        "<a href=\"https://colab.research.google.com/github/therawther/LPV/blob/main/My_Final_Codes_HPC/Cuda_Matrix_Mul_Final.ipynb\" target=\"_parent\"><img src=\"https://colab.research.google.com/assets/colab-badge.svg\" alt=\"Open In Colab\"/></a>"
      ]
    },
    {
      "cell_type": "code",
      "execution_count": null,
      "metadata": {
        "colab": {
          "base_uri": "https://localhost:8080/"
        },
        "id": "27wybb7EO6WK",
        "outputId": "093fcfe9-f66b-4a9b-b6c1-e5f03e61b2a0"
      },
      "outputs": [
        {
          "output_type": "stream",
          "name": "stdout",
          "text": [
            "Cloning into 'nvcc4jupyter'...\n",
            "remote: Enumerating objects: 48, done.\u001b[K\n",
            "remote: Counting objects: 100% (3/3), done.\u001b[K\n",
            "remote: Compressing objects: 100% (3/3), done.\u001b[K\n",
            "remote: Total 48 (delta 0), reused 0 (delta 0), pack-reused 45\u001b[K\n",
            "Unpacking objects: 100% (48/48), 8.29 KiB | 848.00 KiB/s, done.\n",
            "Looking in indexes: https://pypi.org/simple, https://us-python.pkg.dev/colab-wheels/public/simple/\n",
            "Collecting git+file:/content/nvcc4jupyter\n",
            "  Cloning file:///content/nvcc4jupyter to /tmp/pip-req-build-sl8pu0lf\n",
            "  Running command git clone --filter=blob:none --quiet file:///content/nvcc4jupyter /tmp/pip-req-build-sl8pu0lf\n",
            "  warning: filtering not recognized by server, ignoring\n",
            "  Resolved file:///content/nvcc4jupyter to commit aac710a35f52bb78ab34d2e52517237941399eff\n",
            "  Preparing metadata (setup.py) ... \u001b[?25l\u001b[?25hdone\n",
            "Building wheels for collected packages: NVCCPlugin\n",
            "  Building wheel for NVCCPlugin (setup.py) ... \u001b[?25l\u001b[?25hdone\n",
            "  Created wheel for NVCCPlugin: filename=NVCCPlugin-0.0.2-py3-none-any.whl size=4287 sha256=d15e8dc0a465a10e4a350c94c1dc9ae52b95f0b2c03d44e26846c50dfb7412a9\n",
            "  Stored in directory: /tmp/pip-ephem-wheel-cache-3sy8lmvg/wheels/fd/06/13/b58cc0bebf3cd854f673ad262798e45f5ab5a6624b569b745b\n",
            "Successfully built NVCCPlugin\n",
            "Installing collected packages: NVCCPlugin\n",
            "Successfully installed NVCCPlugin-0.0.2\n"
          ]
        }
      ],
      "source": [
        "!git clone https://github.com/andreinechaev/nvcc4jupyter\n",
        "!pip install git+file:/content/nvcc4jupyter"
      ]
    },
    {
      "cell_type": "code",
      "source": [
        "%load_ext nvcc_plugin"
      ],
      "metadata": {
        "colab": {
          "base_uri": "https://localhost:8080/"
        },
        "id": "KincfeteO-9O",
        "outputId": "19e3bb5e-0bfa-494a-feec-dae63837d58c"
      },
      "execution_count": null,
      "outputs": [
        {
          "output_type": "stream",
          "name": "stdout",
          "text": [
            "created output directory at /content/src\n",
            "Out bin /content/result.out\n"
          ]
        }
      ]
    },
    {
      "cell_type": "code",
      "source": [
        "%%cu\n",
        "#include <cuda_runtime.h>\n",
        "#include <iostream>\n",
        "#define N 1000\n",
        "\n",
        "using namespace std;\n",
        "\n",
        "__global__ void matrixMul(int *a, int *b, int *c)\n",
        "{\n",
        "    int row = blockIdx.y * blockDim.y + threadIdx.y;\n",
        "    int col = blockIdx.x * blockDim.x + threadIdx.x;\n",
        "    if (row < N && col < N)\n",
        "    {\n",
        "        int sum = 0;\n",
        "        for (int k = 0; k < N; k++)\n",
        "        {\n",
        "            sum += a[row * N + k] * b[k * N + col];\n",
        "        }\n",
        "        c[row * N + col] = sum;\n",
        "    }\n",
        "}\n",
        "\n",
        "int main()\n",
        "{\n",
        "    int *a, *b, *c;\n",
        "    // host matrices\n",
        "    int *dev_a, *dev_b, *dev_c;\n",
        "    // device matrices\n",
        "    int size = N * N * sizeof(int);\n",
        "\n",
        "    // Allocate memory on host\n",
        "    a = (int *)malloc(size);\n",
        "    b = (int *)malloc(size);\n",
        "    c = (int *)malloc(size);\n",
        "\n",
        "    // Allocate memory on device\n",
        "    cudaMalloc((void **)&dev_a, size);\n",
        "    cudaMalloc((void **)&dev_b, size);\n",
        "    cudaMalloc((void **)&dev_c, size);\n",
        "\n",
        "    // Initialize host matrices\n",
        "    for (int i = 0; i < N; i++)\n",
        "    {\n",
        "        for (int j = 0; j < N; j++)\n",
        "        {\n",
        "            a[i * N + j] = i;\n",
        "            b[i * N + j] = j;\n",
        "        }\n",
        "    }\n",
        "\n",
        "    // Copy host matrices to device\n",
        "    cudaMemcpy(dev_a, a, size, cudaMemcpyHostToDevice);\n",
        "    cudaMemcpy(dev_b, b, size, cudaMemcpyHostToDevice);\n",
        "\n",
        "    // Launch kernel with 1 block and 1024 threads per block\n",
        "    dim3 blockDim(32, 32);\n",
        "    dim3 gridDim((N + blockDim.x - 1) / blockDim.x, (N + blockDim.y - 1) / blockDim.y);\n",
        "    matrixMul<<<gridDim, blockDim>>>(dev_a, dev_b, dev_c);\n",
        "\n",
        "    // Copy result from device to host\n",
        "    cudaMemcpy(c, dev_c, size, cudaMemcpyDeviceToHost);\n",
        " \n",
        " \n",
        "    // Print the first 10 values of a\n",
        "    cout<<\" first 10 values of a = \";\n",
        "    for (int i = 0; i < 10; i++)\n",
        "    {\n",
        "        cout << a[i] << \" \";\n",
        "    }\n",
        "    cout<<endl;\n",
        " \n",
        "    // Print the first 10 values of b\n",
        "    cout<<\" first 10 values of b = \";\n",
        "    for (int i = 0; i < 10; i++)\n",
        "    {\n",
        "        cout << b[i] << \" \";\n",
        "    }\n",
        "    cout<<endl;\n",
        "\n",
        "    // Print the first 10 values of the result\n",
        "    cout<<\" first 10 values of the result c = \";\n",
        "    for (int i = 0; i < 10; i++)\n",
        "    {\n",
        "        cout << c[i] << \" \";\n",
        "    }\n",
        "\n",
        "    // Free memory\n",
        "    cudaFree(dev_a);\n",
        "    cudaFree(dev_b);\n",
        "    cudaFree(dev_c);\n",
        "    free(a);\n",
        "    free(b);\n",
        "    free(c);\n",
        "\n",
        "    return 0;\n",
        "}"
      ],
      "metadata": {
        "colab": {
          "base_uri": "https://localhost:8080/"
        },
        "id": "x2MfCO_zO_CP",
        "outputId": "46359cc2-d35a-4fb7-c71a-9207fc348c68"
      },
      "execution_count": null,
      "outputs": [
        {
          "output_type": "stream",
          "name": "stdout",
          "text": [
            " first 10 values of a = 0 0 0 0 0 0 0 0 0 0 \n",
            " first 10 values of b = 0 1 2 3 4 5 6 7 8 9 \n",
            " first 10 values of the result c = 0 0 0 0 0 0 0 0 0 0 \n"
          ]
        }
      ]
    }
  ]
}